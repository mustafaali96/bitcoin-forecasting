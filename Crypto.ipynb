{
 "cells": [
  {
   "cell_type": "code",
   "execution_count": 4,
   "metadata": {},
   "outputs": [
    {
     "name": "stdout",
     "output_type": "stream",
     "text": [
      "Enter From Currency e.g BTC, ETH(Default BTC): \n",
      "Enter To Currency e.g USD, BTC(Default USD): \n",
      "Enter History Limit MI for Minutely H for Hourly D for Daily M for Monthly Y for Yearly(Default Minutely): D\n",
      "Enter Limit By default 10(for last 10 minutes/hours/days/months/years): 1\n",
      "Enter Exchange (Default CCCAGG ): \n"
     ]
    },
    {
     "data": {
      "image/png": "[encoded data removed]",
      "text/plain": [
       "<Figure size 432x288 with 1 Axes>"
      ]
     },
     "metadata": {},
     "output_type": "display_data"
    }
   ],
   "source": [
    "import requests\n",
    "from datetime import datetime\n",
    "import pandas as pd\n",
    "import matplotlib.pyplot as plt\n",
    "\n",
    "\n",
    "def get_pricehistory(from_currency,to_currency='USD',limit=10,interval=1,exchange='CCCAGG',hist_type='MI'):\n",
    "    if hist_type =='MI':\n",
    "        uri = \"https://min-api.cryptocompare.com/data/histominute?fsym={}&tsym={}&limit={}&aggregate={}&e={}\"\n",
    "        uri = uri.format(from_currency,to_currency,limit,interval,exchange)\n",
    "    elif hist_type == 'H':\n",
    "        uri = \"https://min-api.cryptocompare.com/data/histohour?fsym={}&tsym={}&limit={}&aggregate={}&e={}\"\n",
    "        uri = uri.format(from_currency,to_currency,limit,interval,exchange)\n",
    "    elif hist_type == 'D':\n",
    "        uri = \"https://min-api.cryptocompare.com/data/histoday?fsym={}&tsym={}&limit={}&aggregate={}&e={}\"\n",
    "        uri = uri.format(from_currency,to_currency,limit,interval,exchange)\n",
    "    elif hist_type == 'Y':\n",
    "        uri = \"https://min-api.cryptocompare.com/data/histoday?fsym={}&tsym={}&limit={}&aggregate={}&e={}\"\n",
    "        uri = uri.format(from_currency,to_currency,limit,interval,exchange)\n",
    "    elif hist_type == 'M':\n",
    "        uri = \"https://min-api.cryptocompare.com/data/histoday?fsym={}&tsym={}&limit={}&aggregate={}&e={}\"\n",
    "        uri = uri.format(from_currency,to_currency,limit,interval,exchange)\n",
    "    else:\n",
    "        uri = \"https://min-api.cryptocompare.com/data/histominute?fsym={}&tsym={}&limit={}&aggregate={}&e={}\"\n",
    "        uri = uri.format(from_currency,to_currency,limit,interval,exchange)\n",
    "    response = requests.get(uri)\n",
    "\n",
    "    if response.status_code ==200:\n",
    "        response_json = response.json()\n",
    "    return response_json\n",
    "\n",
    "\n",
    "def parse_response(response_json,graph_frequency):\n",
    "    if response_json:\n",
    "        df = pd.DataFrame(response_json['Data'])\n",
    "        df['timestamp'] = [datetime.fromtimestamp(s) for s in df.time]\n",
    "    #print (df)\n",
    "    return df\n",
    "\n",
    "def plot_graph(df,x_title,y_title,graph_title):\n",
    "    fig = plt.figure()\n",
    "    axs = plt.axes()\n",
    "    axs.plot_date(df.timestamp,df.close,color='#f7a862', fmt='r-')\n",
    "    plt.xlabel(x_title)\n",
    "    plt.ylabel(y_title)\n",
    "    plt.title(graph_title)\n",
    "    plt.setp(axs.get_xaxis().get_majorticklabels(), rotation=45)\n",
    "    plt.show()\n",
    "\n",
    "\n",
    "\n",
    "\n",
    "\n",
    "\n",
    "from_currency = input(\"Enter From Currency e.g BTC, ETH(Default BTC): \")\n",
    "to_currency = input(\"Enter To Currency e.g USD, BTC(Default USD): \")\n",
    "hist_type = input(\"Enter History Limit MI for Minutely H for Hourly D for Daily M for Monthly Y for Yearly(Default Minutely): \")\n",
    "limit = input(\"Enter Limit By default 10(for last 10 minutes/hours/days/months/years): \")\n",
    "#interval = input(\"Enter Interval By default 1(For every 1 minute/hour/day/year/month): \")\n",
    "exchange = input(\"Enter Exchange (Default CCCAGG ): \")\n",
    "\n",
    "if not from_currency:\n",
    "    from_currency = 'BTC'\n",
    "if not to_currency:\n",
    "    to_currency = 'USD'\n",
    "if not hist_type:\n",
    "    hist_type = 'MI'\n",
    "if not limit:\n",
    "    limit = 10\n",
    "if not exchange:\n",
    "    exchange = 'CCCAGG'\n",
    "if hist_type=='M':\n",
    "    interval = 30\n",
    "elif hist_type =='Y':\n",
    "    if int(limit)>2000:\n",
    "        limit = 2000\n",
    "        interval = 30\n",
    "    else:\n",
    "        limit = int(limit)*12\n",
    "        interval = 30\n",
    "else:\n",
    "    interval=1\n",
    "\n",
    "\n",
    "\n",
    "price_hist = get_pricehistory(from_currency.upper(), to_currency.upper(), limit, interval, exchange.upper(),\n",
    "                              hist_type.upper())\n",
    "price_df = parse_response(price_hist,hist_type)\n",
    "\n",
    "plot_graph(price_df, 'Time Stamp', 'Closing Price',\n",
    "           'Price Comparision ' + from_currency.upper() + ' VS ' + to_currency.upper())\n"
   ]
  },
  {
   "cell_type": "code",
   "execution_count": null,
   "metadata": {},
   "outputs": [],
   "source": []
  }
 ],
 "metadata": {
  "kernelspec": {
   "display_name": "Python 3",
   "language": "python",
   "name": "python3"
  },
  "language_info": {
   "codemirror_mode": {
    "name": "ipython",
    "version": 3
   },
   "file_extension": ".py",
   "mimetype": "text/x-python",
   "name": "python",
   "nbconvert_exporter": "python",
   "pygments_lexer": "ipython3",
   "version": "3.6.5"
  }
 },
 "nbformat": 4,
 "nbformat_minor": 2
}
